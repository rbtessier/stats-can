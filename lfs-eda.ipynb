{
 "cells": [
  {
   "cell_type": "markdown",
   "metadata": {},
   "source": [
    "See [readme.md](/readme.md) for how to install `stats-can`"
   ]
  },
  {
   "cell_type": "code",
   "execution_count": 2,
   "metadata": {},
   "outputs": [
    {
     "name": "stdout",
     "output_type": "stream",
     "text": [
      "c:\\Users\\psych\\Repos\\stats-can/LFS_Jan2021-Feb2022\n",
      "<class 'list'>\n",
      "14\n",
      "['c:\\\\Users\\\\psych\\\\Repos\\\\stats-can/LFS_Jan2021-Feb2022\\\\pub0121.csv', 'c:\\\\Users\\\\psych\\\\Repos\\\\stats-can/LFS_Jan2021-Feb2022\\\\pub0122.csv', 'c:\\\\Users\\\\psych\\\\Repos\\\\stats-can/LFS_Jan2021-Feb2022\\\\pub0221.csv', 'c:\\\\Users\\\\psych\\\\Repos\\\\stats-can/LFS_Jan2021-Feb2022\\\\pub0222.csv', 'c:\\\\Users\\\\psych\\\\Repos\\\\stats-can/LFS_Jan2021-Feb2022\\\\pub0321.csv', 'c:\\\\Users\\\\psych\\\\Repos\\\\stats-can/LFS_Jan2021-Feb2022\\\\pub0421.csv', 'c:\\\\Users\\\\psych\\\\Repos\\\\stats-can/LFS_Jan2021-Feb2022\\\\pub0521.csv', 'c:\\\\Users\\\\psych\\\\Repos\\\\stats-can/LFS_Jan2021-Feb2022\\\\pub0621.csv', 'c:\\\\Users\\\\psych\\\\Repos\\\\stats-can/LFS_Jan2021-Feb2022\\\\pub0721.csv', 'c:\\\\Users\\\\psych\\\\Repos\\\\stats-can/LFS_Jan2021-Feb2022\\\\pub0821.csv', 'c:\\\\Users\\\\psych\\\\Repos\\\\stats-can/LFS_Jan2021-Feb2022\\\\pub0921.csv', 'c:\\\\Users\\\\psych\\\\Repos\\\\stats-can/LFS_Jan2021-Feb2022\\\\pub1021.csv', 'c:\\\\Users\\\\psych\\\\Repos\\\\stats-can/LFS_Jan2021-Feb2022\\\\pub1121.csv', 'c:\\\\Users\\\\psych\\\\Repos\\\\stats-can/LFS_Jan2021-Feb2022\\\\pub1221.csv']\n"
     ]
    }
   ],
   "source": [
    "import pandas as pd\n",
    "import numpy as np\n",
    "import matplotlib.pyplot as plt\n",
    "import os\n",
    "import glob\n",
    "  \n",
    "# Below is a function that takes the subset of the labour force data and replaces qualitatives columns with their string meaning from csv files. The CSV files should be named with lower case versions of the LFS variable names and stored as separate csv's in a folder called \"Metadata\"\n",
    "def replace_lfs_categories(df,path, replace_variable = True):\n",
    "    '''This function replaces the numerical values for qualitative variables with their survey values as strings for any subset of the labour force survey data. '''\n",
    "\n",
    "    columns = df.columns.to_list()\n",
    "    print(columns)\n",
    "    print(columns[0].lower())\n",
    "    print(type(columns[0].lower()))\n",
    "    print(path)\n",
    "    \n",
    "    for var in columns:\n",
    "        print(path + '/Metadata/{}.csv'.format(var.lower()))\n",
    "\n",
    "        print('variable: ' + var.lower())\n",
    "\n",
    "        #read in csv corresponding to the name of the lfs variable\n",
    "        if os.path.exists(path + '/Metadata/{}.csv'.format(var.lower())):\n",
    "            meaning = pd.read_csv(path + '/Metadata/{}.csv'.format(var.lower()), index_col='id')\n",
    "\n",
    "            #store the variable name for later use when using replace variable\n",
    "            var_name = meaning.columns[0]\n",
    "            print(meaning.columns)\n",
    "        \n",
    "            #join the new data to the old data\n",
    "            df = df.join(meaning, on = var, how = 'left')\n",
    "            df = df.drop(var, axis = 1)\n",
    "            if replace_variable == False:\n",
    "                df = df.rename(columns = {var_name : var})\n",
    "            print(df.head())\n",
    "    return df  \n",
    "  \n",
    "# use glob to get all the csv files \n",
    "# in the folder\n",
    "path = os.getcwd() + '/LFS_Jan2021-Feb2022'\n",
    "csv_files = glob.glob(os.path.join(path, \"*.csv\"))\n",
    "  \n",
    "print(path)\n",
    "print(type(csv_files))\n",
    "print(len(csv_files))\n",
    "print(csv_files)\n",
    "# loop over the list of csv files\n"
   ]
  },
  {
   "cell_type": "code",
   "execution_count": 3,
   "metadata": {},
   "outputs": [
    {
     "name": "stdout",
     "output_type": "stream",
     "text": [
      "Location: c:\\Users\\psych\\Repos\\stats-can/LFS_Jan2021-Feb2022\\pub0121.csv\n",
      "File Name: pub0121.csv\n",
      "Content:\n",
      "   REC_NUM  SURVYEAR  SURVMNTH  LFSSTAT  PROV  CMA  AGE_12  AGE_6  SEX  \\\n",
      "0        1      2021         1        1    48    7       3    5.0    1   \n",
      "1        2      2021         1        1    13    0       8    NaN    2   \n",
      "2        3      2021         1        4    11    0      12    NaN    2   \n",
      "3        4      2021         1        4    12    0      11    NaN    2   \n",
      "4        5      2021         1        4    35    0       1    2.0    2   \n",
      "\n",
      "   MARSTAT  ...  LKATADS  LKANSADS  LKOTHERN  PRIORACT  YNOLOOK  TLOLOOK  \\\n",
      "0        6  ...      NaN       NaN       NaN       NaN      NaN      NaN   \n",
      "1        1  ...      NaN       NaN       NaN       NaN      NaN      NaN   \n",
      "2        1  ...      NaN       NaN       NaN       NaN      NaN      NaN   \n",
      "3        1  ...      NaN       NaN       NaN       NaN      NaN      NaN   \n",
      "4        6  ...      NaN       NaN       NaN       NaN      NaN      NaN   \n",
      "\n",
      "   SCHOOLN  EFAMTYPE  AGYOWNK  FINALWT  \n",
      "0      1.0        13      NaN      270  \n",
      "1      1.0         2      NaN      190  \n",
      "2      NaN        11      NaN       39  \n",
      "3      NaN        11      NaN      182  \n",
      "4      2.0        11      NaN      238  \n",
      "\n",
      "[5 rows x 60 columns]\n",
      "(167574, 60)\n",
      "final shape: (167574, 60)\n"
     ]
    }
   ],
   "source": [
    "for f in csv_files:\n",
    "    \n",
    "    # read the csv file\n",
    "    df = pd.read_csv(f)\n",
    "    temp = df \n",
    "    \n",
    "    # print the location and filename\n",
    "    print('Location:', f)\n",
    "    print('File Name:', f.split(\"\\\\\")[-1])\n",
    "      \n",
    "    # print the content\n",
    "    print('Content:')\n",
    "    df = pd.concat([temp, df])\n",
    "    print(df.head())\n",
    "    print(df.shape)\n",
    "    \n",
    "    #this break is just a lazy way to not have this loop capture all data every time I run this notebook. Remove when need full range of data\n",
    "    break\n",
    "\n",
    "print('final shape:', df.shape)"
   ]
  },
  {
   "cell_type": "code",
   "execution_count": 4,
   "metadata": {},
   "outputs": [
    {
     "name": "stdout",
     "output_type": "stream",
     "text": [
      "   REC_NUM  SURVYEAR  SURVMNTH  NOC_10\n",
      "0        1      2021         1     7.0\n",
      "1        2      2021         1     4.0\n",
      "2        3      2021         1     NaN\n",
      "3        4      2021         1     NaN\n",
      "4        5      2021         1     NaN\n"
     ]
    }
   ],
   "source": [
    "noc_10 = df[['REC_NUM', 'SURVYEAR', 'SURVMNTH', 'NOC_10']]\n",
    "print(noc_10.head())"
   ]
  },
  {
   "cell_type": "code",
   "execution_count": 5,
   "metadata": {},
   "outputs": [
    {
     "name": "stdout",
     "output_type": "stream",
     "text": [
      "['REC_NUM', 'SURVYEAR', 'SURVMNTH', 'NOC_10']\n",
      "rec_num\n",
      "<class 'str'>\n",
      "c:\\Users\\psych\\Repos\\stats-can/LFS_Jan2021-Feb2022\n",
      "c:\\Users\\psych\\Repos\\stats-can/LFS_Jan2021-Feb2022/Metadata/rec_num.csv\n",
      "variable: rec_num\n",
      "c:\\Users\\psych\\Repos\\stats-can/LFS_Jan2021-Feb2022/Metadata/survyear.csv\n",
      "variable: survyear\n",
      "c:\\Users\\psych\\Repos\\stats-can/LFS_Jan2021-Feb2022/Metadata/survmnth.csv\n",
      "variable: survmnth\n",
      "Index(['Survey month'], dtype='object')\n",
      "   REC_NUM  SURVYEAR  NOC_10 SURVMNTH\n",
      "0        1      2021     7.0  January\n",
      "1        2      2021     4.0  January\n",
      "2        3      2021     NaN  January\n",
      "3        4      2021     NaN  January\n",
      "4        5      2021     NaN  January\n",
      "c:\\Users\\psych\\Repos\\stats-can/LFS_Jan2021-Feb2022/Metadata/noc_10.csv\n",
      "variable: noc_10\n",
      "Index(['Occupation at main job'], dtype='object')\n",
      "   REC_NUM  SURVYEAR SURVMNTH                         NOC_10\n",
      "0        1      2021  January  Sales and service occupations\n",
      "1        2      2021  January             Health occupations\n",
      "2        3      2021  January                            NaN\n",
      "3        4      2021  January                            NaN\n",
      "4        5      2021  January                            NaN\n"
     ]
    }
   ],
   "source": [
    "noc_10 = replace_lfs_categories(noc_10, path, replace_variable = False)"
   ]
  },
  {
   "cell_type": "code",
   "execution_count": null,
   "metadata": {},
   "outputs": [
    {
     "name": "stdout",
     "output_type": "stream",
     "text": [
      "   REC_NUM  SURVYEAR  SURVMNTH  NOC_10\n",
      "0        1      2021        12     7.0\n",
      "1        2      2021        12     4.0\n",
      "2        3      2021        12     NaN\n",
      "3        4      2021        12     7.0\n",
      "4        5      2021        12     4.0\n"
     ]
    }
   ],
   "source": [
    "print(noc_10.head())"
   ]
  },
  {
   "cell_type": "code",
   "execution_count": 9,
   "metadata": {},
   "outputs": [
    {
     "name": "stdout",
     "output_type": "stream",
     "text": [
      "   REC_NUM  SURVYEAR  SURVMNTH  LFSSTAT  PROV  CMA  AGE_12  AGE_6  SEX  \\\n",
      "0        1      2021        12        1    24    2       3    6.0    2   \n",
      "1        2      2021        12        1    35    4      10    NaN    1   \n",
      "2        3      2021        12        4    11    0       8    NaN    1   \n",
      "3        4      2021        12        4    47    0       2    4.0    2   \n",
      "4        5      2021        12        2    24    0       5    NaN    2   \n",
      "\n",
      "   MARSTAT  ...  LKATADS  LKANSADS  LKOTHERN  PRIORACT  YNOLOOK  TLOLOOK  \\\n",
      "0        1  ...      NaN       NaN       NaN       NaN      NaN      NaN   \n",
      "1        1  ...      NaN       NaN       NaN       NaN      NaN      NaN   \n",
      "2        1  ...      NaN       NaN       NaN       NaN      NaN      NaN   \n",
      "3        6  ...      NaN       NaN       NaN       NaN      NaN      NaN   \n",
      "4        2  ...      NaN       NaN       NaN       NaN      NaN      NaN   \n",
      "\n",
      "   SCHOOLN  EFAMTYPE  AGYOWNK  FINALWT  \n",
      "0      1.0         2      NaN     1598  \n",
      "1      1.0         2      NaN      965  \n",
      "2      1.0         8      NaN       66  \n",
      "3      2.0         1      NaN      279  \n",
      "4      1.0         3      2.0      442  \n",
      "\n",
      "[5 rows x 60 columns]\n",
      "(1433921, 60)\n",
      "<class 'pandas.core.frame.DataFrame'>\n",
      "Int64Index: 1433921 entries, 0 to 92684\n",
      "Data columns (total 60 columns):\n",
      " #   Column    Non-Null Count    Dtype  \n",
      "---  ------    --------------    -----  \n",
      " 0   REC_NUM   1433921 non-null  int64  \n",
      " 1   SURVYEAR  1433921 non-null  int64  \n",
      " 2   SURVMNTH  1433921 non-null  int64  \n",
      " 3   LFSSTAT   1433921 non-null  int64  \n",
      " 4   PROV      1433921 non-null  int64  \n",
      " 5   CMA       1433921 non-null  int64  \n",
      " 6   AGE_12    1433921 non-null  int64  \n",
      " 7   AGE_6     256478 non-null   float64\n",
      " 8   SEX       1433921 non-null  int64  \n",
      " 9   MARSTAT   1433921 non-null  int64  \n",
      " 10  EDUC      1433921 non-null  int64  \n",
      " 11  MJH       817904 non-null   float64\n",
      " 12  EVERWORK  616017 non-null   float64\n",
      " 13  FTPTLAST  98056 non-null    float64\n",
      " 14  COWMAIN   915960 non-null   float64\n",
      " 15  IMMIG     1433921 non-null  int64  \n",
      " 16  NAICS_21  915960 non-null   float64\n",
      " 17  NOC_10    915960 non-null   float64\n",
      " 18  NOC_40    915960 non-null   float64\n",
      " 19  YABSENT   72656 non-null    float64\n",
      " 20  WKSAWAY   72656 non-null    float64\n",
      " 21  PAYAWAY   64142 non-null    float64\n",
      " 22  UHRSMAIN  817904 non-null   float64\n",
      " 23  AHRSMAIN  817904 non-null   float64\n",
      " 24  FTPTMAIN  817904 non-null   float64\n",
      " 25  UTOTHRS   817904 non-null   float64\n",
      " 26  ATOTHRS   817904 non-null   float64\n",
      " 27  HRSAWAY   640400 non-null   float64\n",
      " 28  YAWAY     98372 non-null    float64\n",
      " 29  PAIDOT    640400 non-null   float64\n",
      " 30  UNPAIDOT  640400 non-null   float64\n",
      " 31  XTRAHRS   640400 non-null   float64\n",
      " 32  WHYPT     153836 non-null   float64\n",
      " 33  TENURE    817904 non-null   float64\n",
      " 34  PREVTEN   98056 non-null    float64\n",
      " 35  HRLYEARN  700732 non-null   float64\n",
      " 36  UNION     700732 non-null   float64\n",
      " 37  PERMTEMP  700732 non-null   float64\n",
      " 38  ESTSIZE   700732 non-null   float64\n",
      " 39  FIRMSIZE  700732 non-null   float64\n",
      " 40  DURUNEMP  57484 non-null    float64\n",
      " 41  FLOWUNEM  60062 non-null    float64\n",
      " 42  UNEMFTPT  60062 non-null    float64\n",
      " 43  WHYLEFTO  98056 non-null    float64\n",
      " 44  WHYLEFTN  98056 non-null    float64\n",
      " 45  DURJLESS  529389 non-null   float64\n",
      " 46  AVAILABL  66288 non-null    float64\n",
      " 47  LKPUBAG   5767 non-null     float64\n",
      " 48  LKEMPLOY  23295 non-null    float64\n",
      " 49  LKRELS    16283 non-null    float64\n",
      " 50  LKATADS   41291 non-null    float64\n",
      " 51  LKANSADS  21216 non-null    float64\n",
      " 52  LKOTHERN  11397 non-null    float64\n",
      " 53  PRIORACT  53006 non-null    float64\n",
      " 54  YNOLOOK   21061 non-null    float64\n",
      " 55  TLOLOOK   4478 non-null     float64\n",
      " 56  SCHOOLN   1056612 non-null  float64\n",
      " 57  EFAMTYPE  1433921 non-null  int64  \n",
      " 58  AGYOWNK   365514 non-null   float64\n",
      " 59  FINALWT   1433921 non-null  int64  \n",
      "dtypes: float64(47), int64(13)\n",
      "memory usage: 667.3 MB\n",
      "None\n",
      "            REC_NUM      SURVYEAR      SURVMNTH       LFSSTAT          PROV  \\\n",
      "count  1.433921e+06  1.433921e+06  1.433921e+06  1.433921e+06  1.433921e+06   \n",
      "mean   4.495227e+04  2.021141e+03  6.553226e+00  2.297592e+00  3.477593e+01   \n",
      "std    2.612824e+04  3.475709e-01  4.021173e+00  1.422646e+00  1.473715e+01   \n",
      "min    1.000000e+00  2.021000e+03  1.000000e+00  1.000000e+00  1.000000e+01   \n",
      "25%    2.240600e+04  2.021000e+03  2.000000e+00  1.000000e+00  2.400000e+01   \n",
      "50%    4.481100e+04  2.021000e+03  6.000000e+00  1.000000e+00  3.500000e+01   \n",
      "75%    6.721600e+04  2.021000e+03  1.100000e+01  4.000000e+00  4.700000e+01   \n",
      "max    1.036580e+05  2.022000e+03  1.200000e+01  4.000000e+00  5.900000e+01   \n",
      "\n",
      "                CMA        AGE_12          AGE_6           SEX       MARSTAT  \\\n",
      "count  1.433921e+06  1.433921e+06  256478.000000  1.433921e+06  1.433921e+06   \n",
      "mean   1.560431e+00  7.442396e+00       3.557857  1.514919e+00  2.772257e+00   \n",
      "std    2.719135e+00  3.540234e+00       1.738746  4.997776e-01  2.134884e+00   \n",
      "min    0.000000e+00  1.000000e+00       1.000000  1.000000e+00  1.000000e+00   \n",
      "25%    0.000000e+00  5.000000e+00       2.000000  1.000000e+00  1.000000e+00   \n",
      "50%    0.000000e+00  8.000000e+00       4.000000  2.000000e+00  2.000000e+00   \n",
      "75%    2.000000e+00  1.100000e+01       5.000000  2.000000e+00  6.000000e+00   \n",
      "max    9.000000e+00  1.200000e+01       6.000000  2.000000e+00  6.000000e+00   \n",
      "\n",
      "       ...  LKATADS  LKANSADS  LKOTHERN      PRIORACT       YNOLOOK  \\\n",
      "count  ...  41291.0   21216.0   11397.0  53006.000000  21061.000000   \n",
      "mean   ...      1.0       1.0       1.0      1.445780      2.511752   \n",
      "std    ...      0.0       0.0       0.0      0.912859      2.053722   \n",
      "min    ...      1.0       1.0       1.0      0.000000      0.000000   \n",
      "25%    ...      1.0       1.0       1.0      1.000000      1.000000   \n",
      "50%    ...      1.0       1.0       1.0      1.000000      2.000000   \n",
      "75%    ...      1.0       1.0       1.0      2.000000      4.000000   \n",
      "max    ...      1.0       1.0       1.0      3.000000      6.000000   \n",
      "\n",
      "           TLOLOOK       SCHOOLN      EFAMTYPE        AGYOWNK       FINALWT  \n",
      "count  4478.000000  1.056612e+06  1.433921e+06  365514.000000  1.433921e+06  \n",
      "mean      1.745869  1.138819e+00  6.285389e+00       2.202955  3.501371e+02  \n",
      "std       0.435420  3.962351e-01  5.301235e+00       1.093395  3.477072e+02  \n",
      "min       1.000000  1.000000e+00  1.000000e+00       1.000000  1.000000e+00  \n",
      "25%       1.000000  1.000000e+00  2.000000e+00       1.000000  1.270000e+02  \n",
      "50%       2.000000  1.000000e+00  4.000000e+00       2.000000  2.060000e+02  \n",
      "75%       2.000000  1.000000e+00  1.100000e+01       3.000000  4.330000e+02  \n",
      "max       2.000000  3.000000e+00  1.800000e+01       4.000000  6.633000e+03  \n",
      "\n",
      "[8 rows x 60 columns]\n"
     ]
    }
   ],
   "source": [
    "print(df.head())\n",
    "print(df.shape)\n",
    "print(df.info())\n",
    "print(df.describe())\n"
   ]
  },
  {
   "cell_type": "code",
   "execution_count": 18,
   "metadata": {},
   "outputs": [
    {
     "ename": "SyntaxError",
     "evalue": "(unicode error) 'unicodeescape' codec can't decode bytes in position 2-3: truncated \\UXXXXXXXX escape (<ipython-input-18-397b23d0bb4e>, line 1)",
     "output_type": "error",
     "traceback": [
      "\u001b[1;36m  File \u001b[1;32m\"<ipython-input-18-397b23d0bb4e>\"\u001b[1;36m, line \u001b[1;32m1\u001b[0m\n\u001b[1;33m    lfsstat = pd.read_csv('C:\\Users\\psych\\Repos\\stats-can\\LFS_Jan2021-Feb2022\\Metadata\\lfsstat.csv')\u001b[0m\n\u001b[1;37m                          ^\u001b[0m\n\u001b[1;31mSyntaxError\u001b[0m\u001b[1;31m:\u001b[0m (unicode error) 'unicodeescape' codec can't decode bytes in position 2-3: truncated \\UXXXXXXXX escape\n"
     ]
    }
   ],
   "source": [
    "lfsstat = pd.read_csv('C:\\Users\\psych\\Repos\\stats-can\\LFS_Jan2021-Feb2022\\Metadata\\lfsstat.csv')\n",
    "print(lfsstat.head())"
   ]
  },
  {
   "cell_type": "markdown",
   "metadata": {},
   "source": [
    "Below I'm going to write a function that, for any subset of the LFS data, replaces columns that require replacement with text, and replaces them. option `replace_variable=False` prevents LFS variable from being replaced by the variable name."
   ]
  },
  {
   "cell_type": "code",
   "execution_count": null,
   "metadata": {},
   "outputs": [],
   "source": [
    "\n"
   ]
  }
 ],
 "metadata": {
  "interpreter": {
   "hash": "a9c01f788bd50fcbfab893b6a2231b5b26b803e71f14175e4ff7c188f5cf469d"
  },
  "kernelspec": {
   "display_name": "Python 3.8.4 64-bit",
   "language": "python",
   "name": "python3"
  },
  "language_info": {
   "codemirror_mode": {
    "name": "ipython",
    "version": 3
   },
   "file_extension": ".py",
   "mimetype": "text/x-python",
   "name": "python",
   "nbconvert_exporter": "python",
   "pygments_lexer": "ipython3",
   "version": "3.8.4"
  },
  "orig_nbformat": 4
 },
 "nbformat": 4,
 "nbformat_minor": 2
}
